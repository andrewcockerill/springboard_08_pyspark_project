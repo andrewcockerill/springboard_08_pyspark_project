{
 "cells": [
  {
   "cell_type": "markdown",
   "metadata": {
    "application/vnd.databricks.v1+cell": {
     "cellMetadata": {},
     "inputWidgets": {},
     "nuid": "61b99aa0-d393-4ac2-99bf-8427fbb3b7c8",
     "showTitle": false,
     "title": ""
    }
   },
   "source": [
    "# PySpark/Azure Databricks Exercise\n",
    "This notebook is used to perform ingestion of raw data files into a Spark session by means of an Azure Databricks notebook environment. Here, we demonstrate the use of the methods provided in PySpark for performing analysis of tabular datasets (metadata, aggregations, etc)."
   ]
  },
  {
   "cell_type": "code",
   "execution_count": 0,
   "metadata": {
    "application/vnd.databricks.v1+cell": {
     "cellMetadata": {},
     "inputWidgets": {},
     "nuid": "e922643b-7ae0-45df-9852-718f31ce5944",
     "showTitle": false,
     "title": ""
    }
   },
   "outputs": [],
   "source": [
    "import findspark\n",
    "findspark.init()\n",
    "import pyspark\n",
    "from pyspark.sql import SparkSession\n",
    "spark = SparkSession.builder.getOrCreate()\n",
    "from pyspark.sql.functions import *"
   ]
  },
  {
   "cell_type": "code",
   "execution_count": 0,
   "metadata": {
    "application/vnd.databricks.v1+cell": {
     "cellMetadata": {
      "byteLimit": 2048000,
      "rowLimit": 10000
     },
     "inputWidgets": {},
     "nuid": "41938ca9-3213-40c6-bb2e-a084c0e40433",
     "showTitle": false,
     "title": ""
    }
   },
   "outputs": [],
   "source": [
    "# Packages\n",
    "import pyspark.sql.functions as F\n",
    "import pandas as pd\n",
    "import numpy as np\n",
    "import os"
   ]
  },
  {
   "cell_type": "code",
   "execution_count": 0,
   "metadata": {
    "application/vnd.databricks.v1+cell": {
     "cellMetadata": {
      "byteLimit": 2048000,
      "rowLimit": 10000
     },
     "inputWidgets": {},
     "nuid": "3e9fd4e6-c1c4-4d3a-892e-2b140853b6ee",
     "showTitle": false,
     "title": ""
    }
   },
   "outputs": [],
   "source": [
    "# Constants\n",
    "DATA_PATH = r'file://'+os.path.abspath('../data')\n",
    "LOAN_PATH = os.path.join(DATA_PATH, 'loan.csv')\n",
    "CREDIT_PATH = os.path.join(DATA_PATH, 'credit card.csv')\n",
    "TXN_PATH = os.path.join(DATA_PATH, 'txn.csv')\n",
    "\n",
    "# Helper functions\n",
    "def clean_columns(df):\n",
    "    # Removes beginning/trailing whitespace from columns in a spark dataframe\n",
    "    cols = df.columns\n",
    "    for c in cols:\n",
    "        df = df.withColumnRenamed(c, c.strip())\n",
    "    return df"
   ]
  },
  {
   "cell_type": "markdown",
   "metadata": {
    "application/vnd.databricks.v1+cell": {
     "cellMetadata": {},
     "inputWidgets": {},
     "nuid": "47056c83-3de6-4a74-8b0c-dcccf0d73b9c",
     "showTitle": false,
     "title": ""
    }
   },
   "source": [
    "## LOAN DATASET #"
   ]
  },
  {
   "cell_type": "code",
   "execution_count": 0,
   "metadata": {
    "application/vnd.databricks.v1+cell": {
     "cellMetadata": {
      "byteLimit": 2048000,
      "rowLimit": 10000
     },
     "inputWidgets": {},
     "nuid": "e786e68c-10ef-4c01-9abd-47fc42641371",
     "showTitle": false,
     "title": ""
    }
   },
   "outputs": [],
   "source": [
    "# Read in loan dataset, note that some numeric columns are recorded as strings with commas - convert these to int\n",
    "loan_df = spark.read.csv(LOAN_PATH, header=True, inferSchema=True)\n",
    "loan_df = clean_columns(loan_df) \\\n",
    "    .withColumn('Loan Amount', F.trim(F.regexp_replace(F.col('Loan Amount'),',','')).astype('int')) \\\n",
    "    .withColumn('Debt Record', F.trim(F.regexp_replace(F.col('Debt Record'),',','')).astype('int'))"
   ]
  },
  {
   "cell_type": "code",
   "execution_count": 0,
   "metadata": {
    "application/vnd.databricks.v1+cell": {
     "cellMetadata": {
      "byteLimit": 2048000,
      "rowLimit": 10000
     },
     "inputWidgets": {},
     "nuid": "fa608412-7a59-4c68-a2b4-450c6e6d26cf",
     "showTitle": false,
     "title": ""
    }
   },
   "outputs": [
    {
     "output_type": "stream",
     "name": "stdout",
     "output_type": "stream",
     "text": [
      "root\n |-- Customer_ID: string (nullable = true)\n |-- Age: integer (nullable = true)\n |-- Gender: string (nullable = true)\n |-- Occupation: string (nullable = true)\n |-- Marital Status: string (nullable = true)\n |-- Family Size: integer (nullable = true)\n |-- Income: integer (nullable = true)\n |-- Expenditure: integer (nullable = true)\n |-- Use Frequency: integer (nullable = true)\n |-- Loan Category: string (nullable = true)\n |-- Loan Amount: integer (nullable = true)\n |-- Overdue: integer (nullable = true)\n |-- Debt Record: integer (nullable = true)\n |-- Returned Cheque: integer (nullable = true)\n |-- Dishonour of Bill: integer (nullable = true)\n\n"
     ]
    }
   ],
   "source": [
    "# Print the schema of the loan dataset\n",
    "loan_df.printSchema()"
   ]
  },
  {
   "cell_type": "code",
   "execution_count": 0,
   "metadata": {
    "application/vnd.databricks.v1+cell": {
     "cellMetadata": {
      "byteLimit": 2048000,
      "rowLimit": 10000
     },
     "inputWidgets": {},
     "nuid": "d98ae9f4-7cbf-4733-b706-606d8f39f9b7",
     "showTitle": false,
     "title": ""
    }
   },
   "outputs": [
    {
     "output_type": "stream",
     "name": "stdout",
     "output_type": "stream",
     "text": [
      "+-----------+---+------+------------+--------------+-----------+------+-----------+-------------+-------------+-----------+-------+-----------+---------------+-----------------+\n|Customer_ID|Age|Gender|  Occupation|Marital Status|Family Size|Income|Expenditure|Use Frequency|Loan Category|Loan Amount|Overdue|Debt Record|Returned Cheque|Dishonour of Bill|\n+-----------+---+------+------------+--------------+-----------+------+-----------+-------------+-------------+-----------+-------+-----------+---------------+-----------------+\n|    IB14001| 30|  MALE|BANK MANAGER|        SINGLE|          4| 50000|      22199|            6|      HOUSING|    1000000|      5|      42898|              6|                9|\n|    IB14008| 44|  MALE|   PROFESSOR|       MARRIED|          6| 51000|      19999|            4|     SHOPPING|      50000|      3|      33999|              1|                5|\n|    IB14012| 30|FEMALE|     DENTIST|        SINGLE|          3| 58450|      27675|            5|   TRAVELLING|      75000|      6|      20876|              3|                1|\n|    IB14018| 29|  MALE|     TEACHER|       MARRIED|          5| 45767|      12787|            3|    GOLD LOAN|     600000|      7|      11000|              0|                4|\n|    IB14022| 34|  MALE|      POLICE|        SINGLE|          4| 43521|      11999|            3|   AUTOMOBILE|     200000|      2|      43898|              1|                2|\n+-----------+---+------+------------+--------------+-----------+------+-----------+-------------+-------------+-----------+-------+-----------+---------------+-----------------+\nonly showing top 5 rows\n\n"
     ]
    }
   ],
   "source": [
    "# Print the first 5 lines of the loan dataset\n",
    "loan_df.show(5)"
   ]
  },
  {
   "cell_type": "code",
   "execution_count": 0,
   "metadata": {
    "application/vnd.databricks.v1+cell": {
     "cellMetadata": {
      "byteLimit": 2048000,
      "rowLimit": 10000
     },
     "inputWidgets": {},
     "nuid": "f277381c-2f04-40ef-ad4f-81fdc29fd5e6",
     "showTitle": false,
     "title": ""
    }
   },
   "outputs": [
    {
     "output_type": "execute_result",
     "data": {
      "text/plain": [
       "15"
      ]
     },
     "execution_count": 80,
     "metadata": {},
     "output_type": "execute_result"
    }
   ],
   "source": [
    "# Print the number of columns in the loan dataset\n",
    "len(loan_df.columns)"
   ]
  },
  {
   "cell_type": "code",
   "execution_count": 0,
   "metadata": {
    "application/vnd.databricks.v1+cell": {
     "cellMetadata": {
      "byteLimit": 2048000,
      "rowLimit": 10000
     },
     "inputWidgets": {},
     "nuid": "e2774f57-9b01-42db-8be5-ee06e4a8b4c5",
     "showTitle": false,
     "title": ""
    }
   },
   "outputs": [
    {
     "output_type": "execute_result",
     "data": {
      "text/plain": [
       "500"
      ]
     },
     "execution_count": 81,
     "metadata": {},
     "output_type": "execute_result"
    }
   ],
   "source": [
    "# Print the number of rows in the loan dataset\n",
    "loan_df.count()"
   ]
  },
  {
   "cell_type": "code",
   "execution_count": 0,
   "metadata": {
    "application/vnd.databricks.v1+cell": {
     "cellMetadata": {
      "byteLimit": 2048000,
      "rowLimit": 10000
     },
     "inputWidgets": {},
     "nuid": "cb35fba6-f3d7-4011-a845-1590756fe2b7",
     "showTitle": false,
     "title": ""
    }
   },
   "outputs": [
    {
     "output_type": "execute_result",
     "data": {
      "text/plain": [
       "500"
      ]
     },
     "execution_count": 105,
     "metadata": {},
     "output_type": "execute_result"
    }
   ],
   "source": [
    "# Print the count of distinct records in the loan dataset\n",
    "loan_df.distinct().count()"
   ]
  },
  {
   "cell_type": "code",
   "execution_count": 0,
   "metadata": {
    "application/vnd.databricks.v1+cell": {
     "cellMetadata": {
      "byteLimit": 2048000,
      "rowLimit": 10000
     },
     "inputWidgets": {},
     "nuid": "567fb0a0-fe1a-4fe3-99e0-8671a6ce04df",
     "showTitle": false,
     "title": ""
    }
   },
   "outputs": [
    {
     "output_type": "stream",
     "name": "stdout",
     "output_type": "stream",
     "text": [
      "+------------------+-----+\n|     Loan Category|Count|\n+------------------+-----+\n|         GOLD LOAN|   77|\n|           HOUSING|   67|\n|        AUTOMOBILE|   60|\n|        TRAVELLING|   53|\n|       RESTAURANTS|   41|\n|          SHOPPING|   35|\n|COMPUTER SOFTWARES|   35|\n|          BUSINESS|   24|\n|        RESTAURANT|   20|\n|  EDUCATIONAL LOAN|   20|\n|   HOME APPLIANCES|   14|\n|       ELECTRONICS|   14|\n|           DINNING|   14|\n|       AGRICULTURE|   12|\n|       BOOK STORES|    7|\n|          BUILDING|    7|\n+------------------+-----+\n\n"
     ]
    }
   ],
   "source": [
    "# Find the number of loans in each category\n",
    "loan_df \\\n",
    "    .groupBy('Loan Category') \\\n",
    "    .agg(F.count(F.lit(1)).alias('Count')) \\\n",
    "    .orderBy(F.desc('Count')) \\\n",
    "    .show()"
   ]
  },
  {
   "cell_type": "code",
   "execution_count": 0,
   "metadata": {
    "application/vnd.databricks.v1+cell": {
     "cellMetadata": {
      "byteLimit": 2048000,
      "rowLimit": 10000
     },
     "inputWidgets": {},
     "nuid": "b34d29d5-844f-4a74-9408-befc598bf5e3",
     "showTitle": false,
     "title": ""
    }
   },
   "outputs": [
    {
     "output_type": "execute_result",
     "data": {
      "text/plain": [
       "450"
      ]
     },
     "execution_count": 133,
     "metadata": {},
     "output_type": "execute_result"
    }
   ],
   "source": [
    "# Find the number of people who have taken more than 1 lakh\n",
    "loan_df.filter(F.col('Loan Amount')>100000).count()"
   ]
  },
  {
   "cell_type": "code",
   "execution_count": 0,
   "metadata": {
    "application/vnd.databricks.v1+cell": {
     "cellMetadata": {
      "byteLimit": 2048000,
      "rowLimit": 10000
     },
     "inputWidgets": {},
     "nuid": "70044f8f-cff5-4f56-87cf-4e770faf5788",
     "showTitle": false,
     "title": ""
    }
   },
   "outputs": [
    {
     "output_type": "execute_result",
     "data": {
      "text/plain": [
       "198"
      ]
     },
     "execution_count": 134,
     "metadata": {},
     "output_type": "execute_result"
    }
   ],
   "source": [
    "# Find the number of people with income greater than 60000 rupees\n",
    "loan_df.filter(F.col('Income')>60000).count()"
   ]
  },
  {
   "cell_type": "code",
   "execution_count": 0,
   "metadata": {
    "application/vnd.databricks.v1+cell": {
     "cellMetadata": {
      "byteLimit": 2048000,
      "rowLimit": 10000
     },
     "inputWidgets": {},
     "nuid": "3edd7139-219a-48b6-90db-ada38f59679c",
     "showTitle": false,
     "title": ""
    }
   },
   "outputs": [
    {
     "output_type": "execute_result",
     "data": {
      "text/plain": [
       "137"
      ]
     },
     "execution_count": 136,
     "metadata": {},
     "output_type": "execute_result"
    }
   ],
   "source": [
    "# Find the number of people with 2 or more returned cheques and income less than 50000\n",
    "loan_df.filter((F.col('Returned Cheque')>=2) & (F.col('Income')<50000)).count()"
   ]
  },
  {
   "cell_type": "code",
   "execution_count": 0,
   "metadata": {
    "application/vnd.databricks.v1+cell": {
     "cellMetadata": {
      "byteLimit": 2048000,
      "rowLimit": 10000
     },
     "inputWidgets": {},
     "nuid": "fe9931a9-d965-4e0b-b72b-0414b28dcbc6",
     "showTitle": false,
     "title": ""
    }
   },
   "outputs": [
    {
     "output_type": "execute_result",
     "data": {
      "text/plain": [
       "111"
      ]
     },
     "execution_count": 137,
     "metadata": {},
     "output_type": "execute_result"
    }
   ],
   "source": [
    "# Find the number of people with 2 or more returned cheques and are single\n",
    "loan_df.filter((F.col('Returned Cheque')>=2) & (F.col('Marital Status')=='SINGLE')).count()"
   ]
  },
  {
   "cell_type": "code",
   "execution_count": 0,
   "metadata": {
    "application/vnd.databricks.v1+cell": {
     "cellMetadata": {
      "byteLimit": 2048000,
      "rowLimit": 10000
     },
     "inputWidgets": {},
     "nuid": "ef95e84c-2118-4c13-a0a3-a37157d629bd",
     "showTitle": false,
     "title": ""
    }
   },
   "outputs": [
    {
     "output_type": "execute_result",
     "data": {
      "text/plain": [
       "6"
      ]
     },
     "execution_count": 140,
     "metadata": {},
     "output_type": "execute_result"
    }
   ],
   "source": [
    "# Find the number of people with expenditure over 50000 a month\n",
    "loan_df.filter(F.col('Expenditure')>50000).count()"
   ]
  },
  {
   "cell_type": "markdown",
   "metadata": {
    "application/vnd.databricks.v1+cell": {
     "cellMetadata": {},
     "inputWidgets": {},
     "nuid": "f0e61af4-85d7-48c8-8b22-458ae0893dcf",
     "showTitle": false,
     "title": ""
    }
   },
   "source": [
    "# CREDIT CARD DATASET #"
   ]
  },
  {
   "cell_type": "code",
   "execution_count": 0,
   "metadata": {
    "application/vnd.databricks.v1+cell": {
     "cellMetadata": {
      "byteLimit": 2048000,
      "rowLimit": 10000
     },
     "inputWidgets": {},
     "nuid": "db638b63-7e08-4c0f-a3f2-6aa0ebf07727",
     "showTitle": false,
     "title": ""
    }
   },
   "outputs": [],
   "source": [
    "# Load the credit card dataset\n",
    "credit_df = spark.read.csv(CREDIT_PATH, header=True, inferSchema=True)"
   ]
  },
  {
   "cell_type": "code",
   "execution_count": 0,
   "metadata": {
    "application/vnd.databricks.v1+cell": {
     "cellMetadata": {
      "byteLimit": 2048000,
      "rowLimit": 10000
     },
     "inputWidgets": {},
     "nuid": "96841bf6-f55f-4c9e-b48f-fe3a555612ab",
     "showTitle": false,
     "title": ""
    },
    "scrolled": true
   },
   "outputs": [
    {
     "output_type": "stream",
     "name": "stdout",
     "output_type": "stream",
     "text": [
      "root\n |-- RowNumber: integer (nullable = true)\n |-- CustomerId: integer (nullable = true)\n |-- Surname: string (nullable = true)\n |-- CreditScore: integer (nullable = true)\n |-- Geography: string (nullable = true)\n |-- Gender: string (nullable = true)\n |-- Age: integer (nullable = true)\n |-- Tenure: integer (nullable = true)\n |-- Balance: double (nullable = true)\n |-- NumOfProducts: integer (nullable = true)\n |-- IsActiveMember: integer (nullable = true)\n |-- EstimatedSalary: double (nullable = true)\n |-- Exited: integer (nullable = true)\n\n"
     ]
    }
   ],
   "source": [
    "# Print the schema of the credit card dataset\n",
    "credit_df.printSchema()"
   ]
  },
  {
   "cell_type": "code",
   "execution_count": 0,
   "metadata": {
    "application/vnd.databricks.v1+cell": {
     "cellMetadata": {
      "byteLimit": 2048000,
      "rowLimit": 10000
     },
     "inputWidgets": {},
     "nuid": "6efcef4a-46b0-4b6e-94cc-89bed0795600",
     "showTitle": false,
     "title": ""
    }
   },
   "outputs": [
    {
     "output_type": "execute_result",
     "data": {
      "text/plain": [
       "13"
      ]
     },
     "execution_count": 145,
     "metadata": {},
     "output_type": "execute_result"
    }
   ],
   "source": [
    "# Print the number of columns in the credit card dataset\n",
    "len(credit_df.columns)"
   ]
  },
  {
   "cell_type": "code",
   "execution_count": 0,
   "metadata": {
    "application/vnd.databricks.v1+cell": {
     "cellMetadata": {
      "byteLimit": 2048000,
      "rowLimit": 10000
     },
     "inputWidgets": {},
     "nuid": "b00edb8d-d853-43e4-81b6-f819afd09316",
     "showTitle": false,
     "title": ""
    }
   },
   "outputs": [
    {
     "output_type": "execute_result",
     "data": {
      "text/plain": [
       "10000"
      ]
     },
     "execution_count": 146,
     "metadata": {},
     "output_type": "execute_result"
    }
   ],
   "source": [
    "# Print the number of rows in the credit card dataset\n",
    "credit_df.count()"
   ]
  },
  {
   "cell_type": "code",
   "execution_count": 0,
   "metadata": {
    "application/vnd.databricks.v1+cell": {
     "cellMetadata": {
      "byteLimit": 2048000,
      "rowLimit": 10000
     },
     "inputWidgets": {},
     "nuid": "ebb542fe-274a-4274-b99f-0aaf4b70ad5b",
     "showTitle": false,
     "title": ""
    }
   },
   "outputs": [
    {
     "output_type": "execute_result",
     "data": {
      "text/plain": [
       "10000"
      ]
     },
     "execution_count": 147,
     "metadata": {},
     "output_type": "execute_result"
    }
   ],
   "source": [
    "# Print the number of distinct records in the credit card dataset\n",
    "credit_df.distinct().count()"
   ]
  },
  {
   "cell_type": "code",
   "execution_count": 0,
   "metadata": {
    "application/vnd.databricks.v1+cell": {
     "cellMetadata": {
      "byteLimit": 2048000,
      "rowLimit": 10000
     },
     "inputWidgets": {},
     "nuid": "6233ad3f-771c-4b5e-bb70-35cfe0d869da",
     "showTitle": false,
     "title": ""
    }
   },
   "outputs": [
    {
     "output_type": "stream",
     "name": "stdout",
     "output_type": "stream",
     "text": [
      "+---------+----------+--------+-----------+---------+------+---+------+---------+-------------+--------------+---------------+------+\n|RowNumber|CustomerId| Surname|CreditScore|Geography|Gender|Age|Tenure|  Balance|NumOfProducts|IsActiveMember|EstimatedSalary|Exited|\n+---------+----------+--------+-----------+---------+------+---+------+---------+-------------+--------------+---------------+------+\n|        1|  15634602|Hargrave|        619|   France|Female| 42|     2|      0.0|            1|             1|      101348.88|     1|\n|        2|  15647311|    Hill|        608|    Spain|Female| 41|     1| 83807.86|            1|             1|      112542.58|     0|\n|        3|  15619304|    Onio|        502|   France|Female| 42|     8| 159660.8|            3|             0|      113931.57|     1|\n|        4|  15701354|    Boni|        699|   France|Female| 39|     1|      0.0|            2|             0|       93826.63|     0|\n|        5|  15737888|Mitchell|        850|    Spain|Female| 43|     2|125510.82|            1|             1|        79084.1|     0|\n+---------+----------+--------+-----------+---------+------+---+------+---------+-------------+--------------+---------------+------+\nonly showing top 5 rows\n\n"
     ]
    }
   ],
   "source": [
    "# Print the first 5 rows in the credit card dataset\n",
    "credit_df.show(5)"
   ]
  },
  {
   "cell_type": "code",
   "execution_count": 0,
   "metadata": {
    "application/vnd.databricks.v1+cell": {
     "cellMetadata": {
      "byteLimit": 2048000,
      "rowLimit": 10000
     },
     "inputWidgets": {},
     "nuid": "50bcf5de-48d9-42c9-a3ad-e656d62614e8",
     "showTitle": false,
     "title": ""
    }
   },
   "outputs": [
    {
     "output_type": "execute_result",
     "data": {
      "text/plain": [
       "3116"
      ]
     },
     "execution_count": 156,
     "metadata": {},
     "output_type": "execute_result"
    }
   ],
   "source": [
    "credit_df.filter(F.col('CreditScore')>700).count()"
   ]
  },
  {
   "cell_type": "code",
   "execution_count": 0,
   "metadata": {
    "application/vnd.databricks.v1+cell": {
     "cellMetadata": {
      "byteLimit": 2048000,
      "rowLimit": 10000
     },
     "inputWidgets": {},
     "nuid": "e9681593-ac93-4ec4-bcea-af845988c66f",
     "showTitle": false,
     "title": ""
    },
    "scrolled": true
   },
   "outputs": [
    {
     "output_type": "execute_result",
     "data": {
      "text/plain": [
       "3116"
      ]
     },
     "execution_count": 157,
     "metadata": {},
     "output_type": "execute_result"
    }
   ],
   "source": [
    "# Find the number of members who are elgible for credit card (assume this means credit score > 700)\n",
    "credit_df.filter(F.col('CreditScore')>700).count()"
   ]
  },
  {
   "cell_type": "code",
   "execution_count": 0,
   "metadata": {
    "application/vnd.databricks.v1+cell": {
     "cellMetadata": {
      "byteLimit": 2048000,
      "rowLimit": 10000
     },
     "inputWidgets": {},
     "nuid": "47a2b23e-dbf7-4801-8a35-25dbede87f14",
     "showTitle": false,
     "title": ""
    }
   },
   "outputs": [
    {
     "output_type": "execute_result",
     "data": {
      "text/plain": [
       "1637"
      ]
     },
     "execution_count": 159,
     "metadata": {},
     "output_type": "execute_result"
    }
   ],
   "source": [
    "# Find the number of members who are  elgible and active in the bank\n",
    "credit_df.filter(F.col('CreditScore')*F.col('IsActiveMember')>700).count()"
   ]
  },
  {
   "cell_type": "code",
   "execution_count": 0,
   "metadata": {
    "application/vnd.databricks.v1+cell": {
     "cellMetadata": {
      "byteLimit": 2048000,
      "rowLimit": 10000
     },
     "inputWidgets": {},
     "nuid": "ff1bfb8d-434f-47de-a96b-973929cf7766",
     "showTitle": false,
     "title": ""
    }
   },
   "outputs": [
    {
     "output_type": "stream",
     "name": "stdout",
     "output_type": "stream",
     "text": [
      "+---------+----------+---------+-----------+---------+------+---+------+---------+-------------+--------------+---------------+------+\n|RowNumber|CustomerId|  Surname|CreditScore|Geography|Gender|Age|Tenure|  Balance|NumOfProducts|IsActiveMember|EstimatedSalary|Exited|\n+---------+----------+---------+-----------+---------+------+---+------+---------+-------------+--------------+---------------+------+\n|        2|  15647311|     Hill|        608|    Spain|Female| 41|     1| 83807.86|            1|             1|      112542.58|     0|\n|        5|  15737888| Mitchell|        850|    Spain|Female| 43|     2|125510.82|            1|             1|        79084.1|     0|\n|        6|  15574012|      Chu|        645|    Spain|  Male| 44|     8|113755.78|            2|             0|      149756.71|     1|\n|       12|  15737173|  Andrews|        497|    Spain|  Male| 24|     3|      0.0|            2|             0|       76390.01|     0|\n|       15|  15600882|    Scott|        635|    Spain|Female| 35|     7|      0.0|            2|             1|       65951.65|     0|\n|       18|  15788218|Henderson|        549|    Spain|Female| 24|     9|      0.0|            2|             1|       14406.41|     0|\n|       19|  15661507|  Muldrow|        587|    Spain|  Male| 45|     6|      0.0|            1|             0|      158684.81|     0|\n|       22|  15597945| Dellucci|        636|    Spain|Female| 32|     8|      0.0|            2|             0|      138555.46|     0|\n|       23|  15699309|Gerasimov|        510|    Spain|Female| 38|     4|      0.0|            1|             0|      118913.53|     1|\n|       31|  15589475|  Azikiwe|        591|    Spain|Female| 39|     3|      0.0|            3|             0|      140469.38|     1|\n|       34|  15659428|  Maggard|        520|    Spain|Female| 42|     6|      0.0|            2|             1|       34410.55|     0|\n|       35|  15732963| Clements|        722|    Spain|Female| 29|     9|      0.0|            2|             1|      142033.07|     0|\n|       37|  15788448|   Watson|        490|    Spain|  Male| 31|     3|145260.23|            1|             1|      114066.77|     0|\n|       38|  15729599|  Lorenzo|        804|    Spain|  Male| 33|     7|  76548.6|            1|             1|       98453.45|     0|\n|       41|  15619360|    Hsiao|        472|    Spain|  Male| 40|     4|      0.0|            1|             0|       70154.22|     0|\n|       45|  15684171|  Bianchi|        660|    Spain|Female| 61|     5|155931.11|            1|             1|      158338.39|     0|\n|       59|  15623944|    T'ien|        511|    Spain|Female| 66|     4|      0.0|            1|             0|        1643.11|     1|\n|       63|  15702014|  Jeffrey|        555|    Spain|  Male| 33|     1| 56084.69|            2|             0|      178798.13|     0|\n|       64|  15751208|  Pirozzi|        684|    Spain|  Male| 56|     8| 78707.16|            1|             1|       99398.36|     0|\n|       73|  15812518|  Palermo|        657|    Spain|Female| 37|     0|163607.18|            1|             1|       44203.55|     0|\n+---------+----------+---------+-----------+---------+------+---+------+---------+-------------+--------------+---------------+------+\nonly showing top 20 rows\n\n"
     ]
    }
   ],
   "source": [
    "# Find the credit card users in Spain \n",
    "credit_df.filter(F.col('Geography')=='Spain').show()"
   ]
  },
  {
   "cell_type": "code",
   "execution_count": 0,
   "metadata": {
    "application/vnd.databricks.v1+cell": {
     "cellMetadata": {
      "byteLimit": 2048000,
      "rowLimit": 10000
     },
     "inputWidgets": {},
     "nuid": "74f31407-f0bc-41d0-b232-daf9d698a3d1",
     "showTitle": false,
     "title": ""
    }
   },
   "outputs": [
    {
     "output_type": "execute_result",
     "data": {
      "text/plain": [
       "1044"
      ]
     },
     "execution_count": 161,
     "metadata": {},
     "output_type": "execute_result"
    }
   ],
   "source": [
    "# Find the credit card users with Estiamted Salary greater than 100000 and have exited the card\n",
    "credit_df.filter(F.col('EstimatedSalary')*F.col('Exited')>100000).count()\n"
   ]
  },
  {
   "cell_type": "code",
   "execution_count": 0,
   "metadata": {
    "application/vnd.databricks.v1+cell": {
     "cellMetadata": {
      "byteLimit": 2048000,
      "rowLimit": 10000
     },
     "inputWidgets": {},
     "nuid": "e654bfce-00b2-4510-a44e-d91ac7b7acd8",
     "showTitle": false,
     "title": ""
    },
    "scrolled": false
   },
   "outputs": [
    {
     "output_type": "execute_result",
     "data": {
      "text/plain": [
       "2432"
      ]
     },
     "execution_count": 162,
     "metadata": {},
     "output_type": "execute_result"
    }
   ],
   "source": [
    "# Find the credit card users with Estiamted Salary less than 100000 and have more than 1 products\n",
    "credit_df.filter((F.col('EstimatedSalary')<100000) & (F.col('NumOfProducts')>1)).count()"
   ]
  },
  {
   "cell_type": "markdown",
   "metadata": {
    "application/vnd.databricks.v1+cell": {
     "cellMetadata": {},
     "inputWidgets": {},
     "nuid": "7c7d3132-06fc-48c1-af92-89b7968bc170",
     "showTitle": false,
     "title": ""
    }
   },
   "source": [
    "# TRANSACTION DATASET #"
   ]
  },
  {
   "cell_type": "code",
   "execution_count": 0,
   "metadata": {
    "application/vnd.databricks.v1+cell": {
     "cellMetadata": {
      "byteLimit": 2048000,
      "rowLimit": 10000
     },
     "inputWidgets": {},
     "nuid": "c0dee25f-e929-4e47-8afa-8f6467742f68",
     "showTitle": false,
     "title": ""
    }
   },
   "outputs": [],
   "source": [
    "# Load the transacton dataset\n",
    "txn_df = spark.read.csv(TXN_PATH, header=True, inferSchema=True)\n",
    "txn_df = clean_columns(txn_df)"
   ]
  },
  {
   "cell_type": "code",
   "execution_count": 0,
   "metadata": {
    "application/vnd.databricks.v1+cell": {
     "cellMetadata": {
      "byteLimit": 2048000,
      "rowLimit": 10000
     },
     "inputWidgets": {},
     "nuid": "76ac1e93-6b64-4f18-994d-62002fcf4f57",
     "showTitle": false,
     "title": ""
    }
   },
   "outputs": [
    {
     "output_type": "stream",
     "name": "stdout",
     "output_type": "stream",
     "text": [
      "root\n |-- Account No: string (nullable = true)\n |-- TRANSACTION DETAILS: string (nullable = true)\n |-- VALUE DATE: string (nullable = true)\n |-- WITHDRAWAL AMT: double (nullable = true)\n |-- DEPOSIT AMT: double (nullable = true)\n |-- BALANCE AMT: double (nullable = true)\n\n"
     ]
    }
   ],
   "source": [
    "# Print the schema of the transacton dataset\n",
    "txn_df.printSchema()"
   ]
  },
  {
   "cell_type": "code",
   "execution_count": 0,
   "metadata": {
    "application/vnd.databricks.v1+cell": {
     "cellMetadata": {
      "byteLimit": 2048000,
      "rowLimit": 10000
     },
     "inputWidgets": {},
     "nuid": "1c171b91-adaf-4a08-90b4-83cd3ad0eaf8",
     "showTitle": false,
     "title": ""
    }
   },
   "outputs": [
    {
     "output_type": "stream",
     "name": "stdout",
     "output_type": "stream",
     "text": [
      "+-------------+-----+\n|   Account No|count|\n+-------------+-----+\n|409000438611'| 4588|\n|     1196711'|10536|\n|     1196428'|48779|\n|409000493210'| 6014|\n|409000611074'| 1093|\n|409000425051'|  802|\n|409000405747'|   51|\n|409000493201'| 1044|\n|409000438620'|13454|\n|409000362497'|29840|\n+-------------+-----+\n\n"
     ]
    }
   ],
   "source": [
    "#COUNT OF TRANSACTION ON EVERY ACCOUNT\n",
    "txn_df \\\n",
    "    .groupBy('Account No') \\\n",
    "    .agg(F.count(F.lit(1)).alias('count')).show()"
   ]
  },
  {
   "cell_type": "code",
   "execution_count": 0,
   "metadata": {
    "application/vnd.databricks.v1+cell": {
     "cellMetadata": {
      "byteLimit": 2048000,
      "rowLimit": 10000
     },
     "inputWidgets": {},
     "nuid": "aa14fa57-393a-4c9d-9bc8-d23ae478ddb8",
     "showTitle": false,
     "title": ""
    }
   },
   "outputs": [
    {
     "output_type": "stream",
     "name": "stdout",
     "output_type": "stream",
     "text": [
      "+-------------+-------------+\n|   Account No| MaxWithdrawl|\n+-------------+-------------+\n|409000438611'|        2.4E8|\n|     1196711'|4.594475464E8|\n|     1196428'|        1.5E8|\n|409000493210'|        1.5E7|\n|409000611074'|     912000.0|\n|409000425051'|       3.54E8|\n|409000405747'|        1.7E8|\n|409000493201'|    2500000.0|\n|409000438620'|        4.0E8|\n|409000362497'|1.413662392E8|\n+-------------+-------------+\n\n"
     ]
    }
   ],
   "source": [
    "# Find the Maximum withdrawal amount for each account\n",
    "txn_df \\\n",
    "    .groupBy('Account No') \\\n",
    "    .agg(F.max('WITHDRAWAL AMT').alias('MaxWithdrawl')).show()\n"
   ]
  },
  {
   "cell_type": "code",
   "execution_count": 0,
   "metadata": {
    "application/vnd.databricks.v1+cell": {
     "cellMetadata": {
      "byteLimit": 2048000,
      "rowLimit": 10000
     },
     "inputWidgets": {},
     "nuid": "7f2731c0-21a4-4920-b92e-c1dc860bb7ad",
     "showTitle": false,
     "title": ""
    }
   },
   "outputs": [
    {
     "output_type": "stream",
     "name": "stdout",
     "output_type": "stream",
     "text": [
      "+-------------+------------+\n|   Account No|MinWithdrawl|\n+-------------+------------+\n|409000438611'|         0.2|\n|     1196711'|        0.25|\n|     1196428'|        0.25|\n|409000493210'|        0.01|\n|409000611074'|       120.0|\n|409000425051'|        1.25|\n|409000405747'|        21.0|\n|409000493201'|         2.1|\n|409000438620'|        0.34|\n|409000362497'|        0.97|\n+-------------+------------+\n\n"
     ]
    }
   ],
   "source": [
    "# MINIMUM WITHDRAWAL AMOUNT OF AN ACCOUNT\n",
    "txn_df \\\n",
    "    .groupBy('Account No') \\\n",
    "    .agg(F.min('WITHDRAWAL AMT').alias('MinWithdrawl')).show()"
   ]
  },
  {
   "cell_type": "code",
   "execution_count": 0,
   "metadata": {
    "application/vnd.databricks.v1+cell": {
     "cellMetadata": {
      "byteLimit": 2048000,
      "rowLimit": 10000
     },
     "inputWidgets": {},
     "nuid": "ca8e4144-b340-4a60-a1b6-745a9c730708",
     "showTitle": false,
     "title": ""
    },
    "scrolled": true
   },
   "outputs": [
    {
     "output_type": "stream",
     "name": "stdout",
     "output_type": "stream",
     "text": [
      "+-------------+-------------+\n|   Account No|   MaxDeposit|\n+-------------+-------------+\n|409000438611'|     1.7025E8|\n|     1196711'|        5.0E8|\n|     1196428'|2.119594422E8|\n|409000493210'|        1.5E7|\n|409000611074'|    3000000.0|\n|409000425051'|        1.5E7|\n|409000405747'|      2.021E8|\n|409000493201'|    1000000.0|\n|409000438620'|      5.448E8|\n|409000362497'|        2.0E8|\n+-------------+-------------+\n\n"
     ]
    }
   ],
   "source": [
    "#MAXIMUM DEPOSIT AMOUNT OF AN ACCOUNT\n",
    "txn_df \\\n",
    "    .groupBy('Account No') \\\n",
    "    .agg(F.max('DEPOSIT AMT').alias('MaxDeposit')).show()"
   ]
  },
  {
   "cell_type": "code",
   "execution_count": 0,
   "metadata": {
    "application/vnd.databricks.v1+cell": {
     "cellMetadata": {
      "byteLimit": 2048000,
      "rowLimit": 10000
     },
     "inputWidgets": {},
     "nuid": "96cbbb0e-9a46-48a8-b9c6-15755184f9a7",
     "showTitle": false,
     "title": ""
    }
   },
   "outputs": [
    {
     "output_type": "stream",
     "name": "stdout",
     "output_type": "stream",
     "text": [
      "+-------------+----------+\n|   Account No|MinDeposit|\n+-------------+----------+\n|409000438611'|      0.03|\n|     1196711'|      1.01|\n|     1196428'|       1.0|\n|409000493210'|      0.01|\n|409000611074'|    1320.0|\n|409000425051'|       1.0|\n|409000405747'|     500.0|\n|409000493201'|       0.9|\n|409000438620'|      0.07|\n|409000362497'|      0.03|\n+-------------+----------+\n\n"
     ]
    }
   ],
   "source": [
    "#MINIMUM DEPOSIT AMOUNT OF AN ACCOUNT\n",
    "txn_df \\\n",
    "    .groupBy('Account No') \\\n",
    "    .agg(F.min('DEPOSIT AMT').alias('MinDeposit')).show()"
   ]
  },
  {
   "cell_type": "code",
   "execution_count": 0,
   "metadata": {
    "application/vnd.databricks.v1+cell": {
     "cellMetadata": {
      "byteLimit": 2048000,
      "rowLimit": 10000
     },
     "inputWidgets": {},
     "nuid": "b648785e-fade-4e86-8b10-c9dd250cfa4c",
     "showTitle": false,
     "title": ""
    }
   },
   "outputs": [
    {
     "output_type": "stream",
     "name": "stdout",
     "output_type": "stream",
     "text": [
      "+-------------+--------------------+\n|   Account No|          SumBalance|\n+-------------+--------------------+\n|409000438611'|-2.49486577068339...|\n|     1196711'|-1.60476498101275E13|\n|     1196428'| -8.1418498130721E13|\n|409000493210'|-3.27584952132095...|\n|409000611074'|       1.615533622E9|\n|409000425051'|-3.77211841164998...|\n|409000405747'|-2.43108047067000...|\n|409000493201'|1.0420831829499985E9|\n|409000438620'|-7.12291867951358...|\n|409000362497'| -5.2860004792808E13|\n+-------------+--------------------+\n\n"
     ]
    }
   ],
   "source": [
    "#sum of balance in every bank account\n",
    "txn_df \\\n",
    "    .groupBy('Account No') \\\n",
    "    .agg(F.sum('BALANCE AMT').alias('SumBalance')).show()"
   ]
  },
  {
   "cell_type": "code",
   "execution_count": 0,
   "metadata": {
    "application/vnd.databricks.v1+cell": {
     "cellMetadata": {
      "byteLimit": 2048000,
      "rowLimit": 10000
     },
     "inputWidgets": {},
     "nuid": "f420bf72-3ad9-42e5-8844-ef4b26167bdb",
     "showTitle": false,
     "title": ""
    },
    "scrolled": true
   },
   "outputs": [
    {
     "output_type": "stream",
     "name": "stdout",
     "output_type": "stream",
     "text": [
      "+----------+-----+\n|VALUE DATE|count|\n+----------+-----+\n| 23-Dec-16|  143|\n|  7-Feb-19|   98|\n| 21-Jul-15|   80|\n|  9-Sep-15|   91|\n| 17-Jan-15|   16|\n| 18-Nov-17|   53|\n| 21-Feb-18|   77|\n| 20-Mar-18|   71|\n| 19-Apr-18|   71|\n| 21-Jun-16|   97|\n| 17-Oct-17|  101|\n|  3-Jan-18|   70|\n|  8-Jun-18|  223|\n| 15-Dec-18|   62|\n|  8-Aug-16|   97|\n| 17-Dec-16|   74|\n|  3-Sep-15|   83|\n| 21-Jan-16|   76|\n|  4-May-18|   92|\n|  7-Sep-17|   94|\n+----------+-----+\nonly showing top 20 rows\n\n"
     ]
    }
   ],
   "source": [
    "#Number of transaction on each date\n",
    "txn_df \\\n",
    "    .groupBy('VALUE DATE') \\\n",
    "    .agg(F.count(F.lit(1)).alias('count')).show()\n"
   ]
  },
  {
   "cell_type": "code",
   "execution_count": 0,
   "metadata": {
    "application/vnd.databricks.v1+cell": {
     "cellMetadata": {
      "byteLimit": 2048000,
      "rowLimit": 10000
     },
     "inputWidgets": {},
     "nuid": "7c609a97-e9be-4ca5-bd2d-182b8fe81766",
     "showTitle": false,
     "title": ""
    }
   },
   "outputs": [
    {
     "output_type": "stream",
     "name": "stdout",
     "output_type": "stream",
     "text": [
      "+-------------+--------------------+----------+--------------+-----------+-----------+\n|   Account No| TRANSACTION DETAILS|VALUE DATE|WITHDRAWAL AMT|DEPOSIT AMT|BALANCE AMT|\n+-------------+--------------------+----------+--------------+-----------+-----------+\n|409000611074'|INDO GIBL Indiafo...| 16-Aug-17|      133900.0|       NULL|  8366100.0|\n|409000611074'|INDO GIBL Indiafo...| 16-Aug-17|      195800.0|       NULL|  8147300.0|\n|409000611074'|INDO GIBL Indiafo...| 16-Aug-17|      143800.0|       NULL|  7781600.0|\n|409000611074'|INDO GIBL Indiafo...| 16-Aug-17|      331650.0|       NULL|  7449950.0|\n|409000611074'|INDO GIBL Indiafo...| 16-Aug-17|      129000.0|       NULL|  7320950.0|\n|409000611074'|INDO GIBL Indiafo...| 16-Aug-17|      230013.0|       NULL|  7090937.0|\n|409000611074'|INDO GIBL Indiafo...| 16-Aug-17|      367900.0|       NULL|  6723037.0|\n|409000611074'|INDO GIBL Indiafo...| 16-Aug-17|      108000.0|       NULL|  6615037.0|\n|409000611074'|INDO GIBL Indiafo...| 16-Aug-17|      141000.0|       NULL|  6409237.0|\n|409000611074'|INDO GIBL Indiafo...| 16-Aug-17|      206000.0|       NULL|  5959817.0|\n|409000611074'|INDO GIBL Indiafo...|  6-Sep-17|      242300.0|       NULL|  5350718.0|\n|409000611074'|INDO GIBL Indiafo...|  6-Sep-17|      113250.0|       NULL|  5147368.0|\n|409000611074'|INDO GIBL Indiafo...|  6-Sep-17|      206900.0|       NULL|  4887968.0|\n|409000611074'|INDO GIBL Indiafo...|  6-Sep-17|      276000.0|       NULL|  4611968.0|\n|409000611074'|INDO GIBL Indiafo...|  6-Sep-17|      171000.0|       NULL|  4440968.0|\n|409000611074'|INDO GIBL Indiafo...|  6-Sep-17|      189800.0|       NULL|  4211068.0|\n|409000611074'|INDO GIBL Indiafo...|  6-Sep-17|      271323.0|       NULL|  3788545.0|\n|409000611074'|INDO GIBL Indiafo...|  6-Sep-17|      200600.0|       NULL|  3587945.0|\n|409000611074'|INDO GIBL Indiafo...|  6-Sep-17|      176900.0|       NULL|  3411045.0|\n|409000611074'|INDO GIBL Indiafo...|  6-Sep-17|      150050.0|       NULL|  3260995.0|\n+-------------+--------------------+----------+--------------+-----------+-----------+\nonly showing top 20 rows\n\n"
     ]
    }
   ],
   "source": [
    "#List of customers with withdrawal amount more than 1 lakh\n",
    "txn_df.filter(F.col('WITHDRAWAL AMT')>100000).show()\n"
   ]
  },
  {
   "cell_type": "code",
   "execution_count": 0,
   "metadata": {
    "application/vnd.databricks.v1+cell": {
     "cellMetadata": {},
     "inputWidgets": {},
     "nuid": "33c0adae-1f6e-401f-8255-53945a488004",
     "showTitle": false,
     "title": ""
    }
   },
   "outputs": [],
   "source": []
  }
 ],
 "metadata": {
  "application/vnd.databricks.v1+notebook": {
   "dashboards": [],
   "environmentMetadata": null,
   "language": "python",
   "notebookMetadata": {
    "pythonIndentUnit": 4
   },
   "notebookName": "banking_lab",
   "widgets": {}
  },
  "kernelspec": {
   "display_name": "Python 3",
   "language": "python",
   "name": "python3"
  },
  "language_info": {
   "codemirror_mode": {
    "name": "ipython",
    "version": 3
   },
   "file_extension": ".py",
   "mimetype": "text/x-python",
   "name": "python",
   "nbconvert_exporter": "python",
   "pygments_lexer": "ipython3",
   "version": "3.8.8"
  }
 },
 "nbformat": 4,
 "nbformat_minor": 0
}
